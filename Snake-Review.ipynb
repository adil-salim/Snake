{
 "cells": [
  {
   "cell_type": "code",
   "execution_count": 1,
   "metadata": {
    "collapsed": true
   },
   "outputs": [],
   "source": [
    "import numpy as np\n",
    "from numpy import linalg\n",
    "import scipy\n",
    "from scipy import fftpack\n",
    "from scipy import optimize\n",
    "import matplotlib.pyplot as plt\n",
    "import time\n",
    "import snap\n",
    "import prox_tv as ptv\n"
   ]
  },
  {
   "cell_type": "code",
   "execution_count": 13,
   "metadata": {
    "collapsed": true
   },
   "outputs": [],
   "source": [
    "#Stochastic Block Model\n",
    "\n",
    "G = snap.GenRndGnm(snap.PNEANet, 4000, 0, False)\n",
    "Interieur = 0.1\n",
    "Exterieur = 0.005\n",
    "for v in G.Nodes():\n",
    "    for w in G.Nodes():\n",
    "        U = np.random.rand()\n",
    "        if v.GetId() % 1000 == w.GetId() % 1000:\n",
    "            if U < Interieur:\n",
    "                G.AddEdge(v.GetId(),w.GetId())\n",
    "        else:\n",
    "            if U < Exterieur:\n",
    "                G.AddEdge(v.GetId(),w.GetId())"
   ]
  },
  {
   "cell_type": "code",
   "execution_count": 31,
   "metadata": {
    "collapsed": false
   },
   "outputs": [
    {
     "name": "stdout",
     "output_type": "stream",
     "text": [
      "4000 81117\n"
     ]
    }
   ],
   "source": [
    "#G = snap.LoadEdgeList(snap.PNEANet, \"com-orkut.ungraph.txt\", 0, 1)\n",
    "#G = snap.LoadEdgeList(snap.PNEANet, \"facebook_combined.txt\", 0, 1)\n",
    "N = G.GetMxNId()\n",
    "M = G.GetEdges()\n",
    "print N,M"
   ]
  },
  {
   "cell_type": "code",
   "execution_count": 32,
   "metadata": {
    "collapsed": false
   },
   "outputs": [],
   "source": [
    "#The Snake algorithm\n",
    "\n",
    "def Rnd_Edge(G):\n",
    "    e = G.GetRndEId()\n",
    "    e = G.GetEI(e)\n",
    "    e = list(np.random.permutation([e.GetSrcNId(),e.GetDstNId()]))\n",
    "    return e\n",
    "\n",
    "def Uniform_Neib(k,G):\n",
    "    v = G.GetNI(k)\n",
    "    k = v.GetNbrNId(np.random.randint(v.GetDeg()))\n",
    "    return k\n",
    "\n",
    "def Simple_Path(e,l,G):\n",
    "    C = e\n",
    "    k = Uniform_Neib(e[-1],G)\n",
    "    while (k not in C) and (len(C) < l-1): #Accelerer?\n",
    "        C += [k]\n",
    "        k = Uniform_Neib(k,G)\n",
    "    return C, [C[-1],k]\n",
    "\n",
    "def Prox_1D(x, C, alpha, R):\n",
    "    y = np.copy(x)\n",
    "    res = y.flat[C]\n",
    "    if R == 'TV':\n",
    "        res = ptv.tv1_1d(res, alpha, method = 'tautstring')\n",
    "    elif R == 'Laplace':\n",
    "        n = len(C)\n",
    "        res = scipy.fftpack.dct(res, type=2)\n",
    "        res = res * [1/(1.0 + 4.0*alpha*float(1 - np.cos((np.pi)*float(j) / float(n)) )) for j in range(n)]\n",
    "        res = 1/(2*float(n))*scipy.fftpack.dct(res, type=3)\n",
    "    #elif R = 'w_Laplace':\n",
    "    #elif R = 'Laplace_n':\n",
    "    y.flat[C] = res\n",
    "    return y\n",
    "    \n",
    "\n",
    "def Snake(G, x, Grad_F, R = 'TV', sec = 10, cte = 1.0, lgr = G.GetNodes()):\n",
    "    #res = np.copy(x)\n",
    "    l = lgr\n",
    "    e = Rnd_Edge(G)\n",
    "    n = 1\n",
    "    gamma_n = cte/float(n)\n",
    "    debut = time.time()\n",
    "    \n",
    "    while time.time() - debut < sec:\n",
    "        C, e = Simple_Path(e, l, G)\n",
    "        x = x - gamma_n * (len(C) - 1) * Grad_F(x)\n",
    "        x = Prox_1D(x, C, G.GetEdges()*gamma_n, R)\n",
    "        l = l - (len(C) - 1)\n",
    "        if l == 0:\n",
    "            l = lgr\n",
    "            n += 1\n",
    "            gamma_n = cte/float(n)\n",
    "            e = Rnd_Edge(G)\n",
    "          \n",
    "    return x #, n \n"
   ]
  },
  {
   "cell_type": "code",
   "execution_count": 33,
   "metadata": {
    "collapsed": false
   },
   "outputs": [
    {
     "data": {
      "text/plain": [
       "29.000000000000014"
      ]
     },
     "execution_count": 33,
     "metadata": {},
     "output_type": "execute_result"
    }
   ],
   "source": [
    "#Mean length of a loop in G\n",
    "\n",
    "e = Rnd_Edge(G)\n",
    "moyenne = len(Simple_Path(e,N,G)[0])\n",
    "\n",
    "for n in xrange(1,1000):\n",
    "    e = Rnd_Edge(G)\n",
    "    moyenne = moyenne + 1/float(n+1)*(len(Simple_Path(e,N,G)[0]) - moyenne)\n",
    "    #print moyenne\n",
    "    \n",
    "moyenne"
   ]
  },
  {
   "cell_type": "code",
   "execution_count": 34,
   "metadata": {
    "collapsed": true
   },
   "outputs": [],
   "source": [
    "#Functions one need to apply the Snake algorithm\n",
    "\n",
    "#Data fitting term\n",
    "def Data(x,y):\n",
    "    return 1/2.0 * np.linalg.norm(x-y)**2\n",
    "\n",
    "#Gradient of the data fitting term\n",
    "def Grad_F(x):\n",
    "    return x - y #coeff\n",
    "\n",
    "#TV regularization\n",
    "def TV(x,G):\n",
    "    r = 0\n",
    "    for e in G.Edges():\n",
    "        r += np.abs(x[e.GetSrcNId()] - x[e.GetDstNId()])\n",
    "    return r\n",
    "\n",
    "#Estimation of TV with l random edges\n",
    "def TV_approx(x,G,l):\n",
    "    r = 0\n",
    "    for i in range(l):\n",
    "        e = G.GetRndEId()\n",
    "        e = G.GetEI(e)\n",
    "        r += np.abs(x[e.GetSrcNId()] - x[e.GetDstNId()])\n",
    "    return G.GetEdges()/float(l) * r    \n",
    "\n",
    "#TV regularized risk\n",
    "def Obj_TV(x,y,G,lambd = 1.0):\n",
    "    return lambd * TV(x,G) + Data(x,y)\n",
    "\n",
    "#Estimation of the TV regularized risk with l random edges\n",
    "def Obj_TV_approx(x,y,G,l,lambd = 1.0):\n",
    "    return lambd * TV_approx(x,G,l) + Data(x,y)\n",
    "\n",
    "#Laplacian regularization\n",
    "def Laplace(x,G):\n",
    "    r = 0\n",
    "    for e in G.Edges():\n",
    "        r += np.linalg.norm(x[e.GetSrcNId()] - x[e.GetDstNId()])**2\n",
    "    return r\n",
    "    \n",
    "#Estimation of the Laplacian regularization with l random edges\n",
    "def Laplace_approx(x,G,l):\n",
    "    r = 0\n",
    "    for i in range(l):\n",
    "        e = G.GetRndEId()\n",
    "        e = G.GetEI(e)\n",
    "        r += np.linalg.norm(x[e.GetSrcNId()] - x[e.GetDstNId()])**2\n",
    "    return G.GetEdges()/float(l) * r    \n",
    "\n",
    "#Laplacian regularized risk\n",
    "def Obj_Laplace(x,y,G,lambd = 1.0):\n",
    "    return lambd * Laplace(x,G) + Data(x,y)\n",
    "\n",
    "#Estimation of the Laplacian regularized risk with l random edges\n",
    "def Obj_Laplace_approx(x,y,G,l, lambd = 1.0):\n",
    "    return lambd * Laplace_approx(x,G,l) + Data(x,y)\n",
    "  \n",
    "    "
   ]
  },
  {
   "cell_type": "code",
   "execution_count": 35,
   "metadata": {
    "collapsed": true
   },
   "outputs": [],
   "source": [
    "#Functions one need to apply the projected gradient algorithm \n",
    "#to the dual problem of the TV regularized risk minimization\n",
    "\n",
    "#Nabla denotes the incidence matrix of G\n",
    "\n",
    "#Computes the coordinate e of Nabla x\n",
    "def Nabla_Coord(x,G,e):\n",
    "    y = np.zeros(G.GetMxEId())\n",
    "    y[e.GetId()] = x[e.GetSrcNId()] - x[e.GetDstNId()]\n",
    "    return y\n",
    "\n",
    "\n",
    "#Computes Nabla x\n",
    "def Nabla(x,G):\n",
    "    y = np.zeros(G.GetMxEId())\n",
    "    for e in G.Edges():\n",
    "        y[e.GetId()] = x[e.GetSrcNId()] - x[e.GetDstNId()] \n",
    "        #e.GetSrcNId() < e.GetDstNId()\n",
    "    return y\n",
    "\n",
    "#Computes Nabla.T u\n",
    "def NablaT(u,G):\n",
    "    y = np.zeros(G.GetMxNId())\n",
    "    for v in G.Nodes():\n",
    "        r = 0\n",
    "        i = v.GetId()\n",
    "        for k in range(v.GetDeg()):\n",
    "            if i < v.GetNbrNId(k):\n",
    "                e = G.GetEI(i,v.GetNbrNId(k))\n",
    "                r += u[e.GetId()]\n",
    "            else:\n",
    "                e = G.GetEI(v.GetNbrNId(k),i)\n",
    "                r -= u[e.GetId()]\n",
    "        y[v.GetId()] = r\n",
    "    return y\n",
    "\n",
    "\n",
    "#Objective function of the dual problem of the TV regularized risk minimization\n",
    "def Objectif_Dual(u,y,G):\n",
    "    return (1.0/2.0)*(linalg.norm(NablaT(u,G),2))**2 - np.inner(u,Nabla(y,G))\n",
    "\n",
    "#Gradient of this objective function\n",
    "def Gradient_Dual(u,y,G):\n",
    "    return Nabla(NablaT(u,G),G) - Nabla(y,G)    \n",
    "\n",
    "#Computes the primal variable x from the dual variable u\n",
    "def Primal(u,y,G):\n",
    "    return y - NablaT(u,G)\n",
    "\n",
    "#Dual Gap\n",
    "def Gap(x, u, G, pas = 1.0):\n",
    "    b = Nabla(x,G)\n",
    "    return pas*np.linalg.norm(b, 1) - np.inner(u,b)\n",
    "\n",
    "#Hard thresholding with threshold = seuil\n",
    "#This is the projection step in the projected gradient algorithm\n",
    "def Seuillage_Dur(v,seuil = 1.0):\n",
    "    y = np.copy(v)\n",
    "    for i in range(len(v)):\n",
    "        if np.abs(v[i]) > seuil:\n",
    "            y[i] = np.sign(v[i])*seuil\n",
    "    return y    "
   ]
  },
  {
   "cell_type": "code",
   "execution_count": 36,
   "metadata": {
    "collapsed": false
   },
   "outputs": [
    {
     "name": "stdout",
     "output_type": "stream",
     "text": [
      "1987.74979282\n",
      "0.964941288712\n"
     ]
    }
   ],
   "source": [
    "#Data\n",
    "\n",
    "#Sample data y\n",
    "y = np.random.randn(N)\n",
    "print 1/2.0*np.linalg.norm(y)**2\n",
    "\n",
    "coeff = 1.0\n",
    "y = coeff * y\n",
    "\n",
    "\n",
    "#Regularization parameter for the TV risk minimization\n",
    "#This choice ensure that the data fitting term and the regularization have the same \"weight\" \n",
    "#at the beginning of the algorithm\n",
    "lambd = coeff * N * np.sqrt(np.pi) / (2*M)\n",
    "\n",
    "estim = M/100\n",
    "print lambd*TV_approx(y,G,estim)/Data(coeff * np.random.randn(N),y) "
   ]
  },
  {
   "cell_type": "code",
   "execution_count": 37,
   "metadata": {
    "collapsed": false
   },
   "outputs": [],
   "source": [
    "def NablaT(u,G):\n",
    "    y = np.zeros(G.GetMxNId())\n",
    "    for v in G.Nodes():\n",
    "        r = 0\n",
    "        i = v.GetId()\n",
    "        for k in range(v.GetOutDeg()):\n",
    "            e = G.GetEI(i,v.GetOutNId(k))\n",
    "            r += u[e.GetId()]\n",
    "        for k in range(v.GetInDeg()):\n",
    "            e = G.GetEI(v.GetInNId(k),i)\n",
    "            r -= u[e.GetId()]\n",
    "        y[v.GetId()] = r\n",
    "    return y\n"
   ]
  },
  {
   "cell_type": "markdown",
   "metadata": {},
   "source": [
    "# TV risk minimization : ProxTV"
   ]
  },
  {
   "cell_type": "code",
   "execution_count": 38,
   "metadata": {
    "collapsed": false
   },
   "outputs": [],
   "source": [
    "#Parameter\n",
    "\n",
    "#We will run the algorithms during sec seconds\n",
    "#sec = 25000 #for the Orkut graph\n",
    "sec = 100 #for the Facebook graph"
   ]
  },
  {
   "cell_type": "code",
   "execution_count": 39,
   "metadata": {
    "collapsed": false
   },
   "outputs": [
    {
     "name": "stdout",
     "output_type": "stream",
     "text": [
      "0\n"
     ]
    }
   ],
   "source": [
    "#Projected gradient algorithm applied to the dual problem\n",
    "\n",
    "#The dictionnary PG will contain the necessary material for the simulation visualization\n",
    "PG = {}\n",
    "\n",
    "#Step-size\n",
    "#For the Orkut graph\n",
    "#pas = 0.00005\n",
    "\n",
    "#For the Facebook graph\n",
    "pas = 0.001 #0.002 should work\n",
    "\n",
    "#The first iterate of the algorithm is chosen so that the primal corresponding variable is y\n",
    "#That is the first iterate is u = 0\n",
    "u = np.zeros(M)\n",
    "\n",
    "#PG['TV'] contains the values of the TV norm on the iterates of the algorithm\n",
    "#Over the Orkut graph, one can approximate the first value of the TV norm by its mean by setting\n",
    "#PG['TV'] = [2/np.sqrt(np.pi)*G.GetEdges()]\n",
    "#Over the Facebook graph, this value is quickly computed so one can set directly\n",
    "PG['TV'] = [TV(y,G)]\n",
    "\n",
    "#PG['Data'] contains the values of the Data fitting term (of the primal problem) \n",
    "#on the iterates of the algorithm. Since we start at y, it starts at zero\n",
    "PG['Data'] = [0]\n",
    "\n",
    "#PG['time'] chronometers the running of the algorithm\n",
    "PG['time'] = [0]\n",
    "\n",
    "print PG['time'][-1]\n",
    "while PG['time'][-1] < sec :\n",
    "    \n",
    "    temps = time.time()\n",
    "    u = u - pas * (Nabla(NablaT(u,G),G) - Nabla(y,G))\n",
    "    u = Seuillage_Dur(u,lambd)\n",
    "    temps = time.time()-temps\n",
    "    \n",
    "    PG['time'] += [PG['time'][-1] + temps]\n",
    "    #print PG['time'][-1]\n",
    "    \n",
    "    x = Primal(u,y,G)\n",
    "    PG['TV'] += [TV(x,G)]\n",
    "    PG['Data'] += [Data(x,y)]\n",
    "    #print PG['Data'][-1] + lambd*PG['TV'][-1]\n",
    "    \n",
    "PG['Obj'] = np.asarray(PG['Data']) + lambd*np.asarray(PG['TV'])"
   ]
  },
  {
   "cell_type": "code",
   "execution_count": 94,
   "metadata": {
    "collapsed": false
   },
   "outputs": [
    {
     "name": "stdout",
     "output_type": "stream",
     "text": [
      "0\n"
     ]
    },
    {
     "data": {
      "text/plain": [
       "291.96807885169983"
      ]
     },
     "execution_count": 94,
     "metadata": {},
     "output_type": "execute_result"
    }
   ],
   "source": [
    "\n",
    "\n",
    "#Snake for the TV regularized risk minimization\n",
    "R = 'TV'\n",
    "\n",
    "#The dictionnary SnakeTV will contain the necessary material for the simulation visualization\n",
    "#SnakeTV = {}\n",
    "\n",
    "#The step size is taken to be cte/n\n",
    "aj = 5.0 #10 works\n",
    "cte = coeff*G.GetNodes()/aj\n",
    "ListL = [4000] #We run Snake for L in ListL\n",
    "\n",
    "tip = time.time()\n",
    "for i in ListL:\n",
    "    \n",
    "    n = 1\n",
    "    gamma_n = cte /float(n)\n",
    "\n",
    "    #lgr = L in the paper\n",
    "    #lgr is taken to be the expected time of return to the starting point of the random walk\n",
    "    lgr = i #G.GetNodes() #one can take lgr = 100 if one wants smaller iterations\n",
    "    l = lgr\n",
    "\n",
    "    #The first iterate of the algorithm is chosen to be y\n",
    "    x = np.copy(y)\n",
    "\n",
    "    #SnakeTV[('TV',lgr)] contains the values of the TV norm on the iterates of the algorithm\n",
    "    #Over the Orkut graph, one can approximate the first value of the TV norm by its mean by setting\n",
    "    #SnakeTV[('TV',lgr)] = [2/np.sqrt(np.pi)*G.GetEdges()]\n",
    "    #Over the Facebook graph, this value is quickly computed so one can set directly\n",
    "    SnakeTV[('TV',lgr)] = [TV(x,G)]\n",
    "\n",
    "    #SnakeTV[('Data',lgr)] contains the values of the Data fitting term\n",
    "    #on the iterates of the algorithm. Since we start at y, it starts at zero\n",
    "    SnakeTV[('Data',lgr)] = [Data(x,y)]\n",
    "\n",
    "    #SnakeTV[('time',lgr)] chronometers the running of the algorithm\n",
    "    SnakeTV[('time',lgr)] = [0]\n",
    "\n",
    "    #Initializing the random walk\n",
    "    e = Rnd_Edge(G)\n",
    "\n",
    "    print SnakeTV[('time',lgr)][-1]\n",
    "    \n",
    "    compteur = 0\n",
    "    mod = 20000 / i\n",
    "    temps = time.time()\n",
    "    while SnakeTV[('time',lgr)][-1] < sec: \n",
    "\n",
    "        C, e = Simple_Path(e, l, G)  \n",
    "        x = x - gamma_n * (len(C) - 1)/(np.float(lgr) * M) * Grad_F(x)\n",
    "        x = Prox_1D(x, C, gamma_n/np.float(lgr), R)\n",
    "        l = l - (len(C) - 1)\n",
    "\n",
    "\n",
    "        if l == 0:\n",
    "            l = lgr\n",
    "            n += 1\n",
    "            gamma_n = cte /float(n)\n",
    "            e = Rnd_Edge(G)\n",
    "            compteur += 1\n",
    "            \n",
    "            if compteur % mod == 0: #We mark a point each time the algorithm visited 20000 nodes\n",
    "                temps = time.time() - temps\n",
    "                SnakeTV[('time',lgr)] += [SnakeTV[('time',lgr)][-1] + temps]\n",
    "                SnakeTV[('TV',lgr)] += [TV(x,G)]\n",
    "                SnakeTV[('Data',lgr)] += [Data(x,y)]\n",
    "                temps = time.time()\n",
    "\n",
    "    SnakeTV[('Obj',lgr)] = np.asarray(SnakeTV[('Data',lgr)]) + lambd*np.asarray(SnakeTV[('TV',lgr)])\n",
    "    \n",
    "top = time.time()\n",
    "top - tip"
   ]
  },
  {
   "cell_type": "code",
   "execution_count": 40,
   "metadata": {
    "collapsed": false
   },
   "outputs": [
    {
     "name": "stdout",
     "output_type": "stream",
     "text": [
      "0\n"
     ]
    }
   ],
   "source": [
    "#L-BFGS-B algorithm applied to the dual problem\n",
    "#Lead to a memory error over the Orkut graph\n",
    "\n",
    "#The dictionnary BFGS will contain the necessary material for the simulation visualization\n",
    "BFGS = {}\n",
    "\n",
    "#The first iterate of the algorithm is chosen so that the primal corresponding variable is y\n",
    "#That is the first iterate is u = 0\n",
    "u = np.zeros(M)\n",
    "\n",
    "#BFGS['TV'] contains the values of the TV norm on the iterates of the algorithm\n",
    "#Over the Orkut graph, one can approximate the first value of the TV norm by its mean by setting\n",
    "#BFGS['TV'] = [2/np.sqrt(np.pi)*G.GetEdges()]\n",
    "#Over the Facebook graph, this value is quickly computed so one can set directly\n",
    "BFGS['TV'] = [TV(y,G)]\n",
    "\n",
    "#BFGS['Data'] contains the values of the Data fitting term (of the primal problem) \n",
    "#on the iterates of the algorithm. Since we start at y, it starts at zero\n",
    "BFGS['Data'] = [0]\n",
    "\n",
    "#PG['time'] chronometers the running of the algorithm\n",
    "BFGS['time'] = [0]\n",
    "\n",
    "#Box constraint\n",
    "bound = [(-lambd,lambd)]*M\n",
    "\n",
    "print BFGS['time'][-1]\n",
    "while BFGS['time'][-1] < sec:\n",
    "    temps = time.time()\n",
    "    \n",
    "    rep = scipy.optimize.fmin_l_bfgs_b(Objectif_Dual, u, fprime = Gradient_Dual, \n",
    "    args = (y,G), bounds = bound, maxiter = 2)\n",
    "    \n",
    "    temps = time.time()-temps\n",
    "    \n",
    "    u = rep[0]\n",
    "    \n",
    "    BFGS['time'] += [BFGS['time'][-1] + temps]\n",
    "    #print BFGS['time'][-1]\n",
    "    \n",
    "    x = Primal(u,y,G)\n",
    "    BFGS['TV'] += [TV(x,G)]\n",
    "    BFGS['Data'] += [Data(x,y)]\n",
    "    #print BFGS['Data'][-1] + lambd*BFGS['TV'][-1]\n",
    "    \n",
    "BFGS['Obj'] = np.asarray(BFGS['Data']) + lambd*np.asarray(BFGS['TV'])"
   ]
  },
  {
   "cell_type": "code",
   "execution_count": 107,
   "metadata": {
    "collapsed": false
   },
   "outputs": [
    {
     "data": {
      "image/png": "[encoded data removed]",
      "text/plain": [
       "<matplotlib.figure.Figure at 0x7fbdc08c8710>"
      ]
     },
     "metadata": {},
     "output_type": "display_data"
    }
   ],
   "source": [
    "%matplotlib inline\n",
    "\n",
    "Liste_de_base = [10, 20, 50, 100, 200, 500, 1000, 2000, 3000, 4000, 5000]\n",
    "\n",
    "i = 100\n",
    "snake = plt.plot(SnakeTV[('time',i)],SnakeTV[('Obj',i)],drawstyle='steps-post',marker = 'o',label = 'L = '+str(i))\n",
    "i = 1000\n",
    "snake = plt.plot(SnakeTV[('time',i)],SnakeTV[('Obj',i)],drawstyle='steps-post',marker = '.',label = 'L = '+str(i))\n",
    "i = 5000\n",
    "snake = plt.plot(SnakeTV[('time',i)],SnakeTV[('Obj',i)],drawstyle='steps-post',marker = ',',label = 'L = '+str(i))\n",
    "#i = 4000\n",
    "#snake = plt.plot(SnakeTV[('time',i)],SnakeTV[('Obj',i)],drawstyle='steps-post',marker = '*',label = 'L = '+str(i))\n",
    "#for i in [100,1000,5000]:\n",
    "#snake = plt.plot(SnakeTV[('time',i)],SnakeTV[('Obj',i)],drawstyle='steps-post',marker = 'o',label = 'Snake with L = '+str(i))\n",
    "pg = plt.plot(PG['time'],PG['Obj'],drawstyle='steps-post',marker = 's',label='Dual PG')\n",
    "bfgs = plt.plot(BFGS['time'],BFGS['Obj'],drawstyle='steps-post',marker = 'v',label='Dual LBFGSB')\n",
    " \n",
    "\n",
    "plt.xlabel('time (s)')\n",
    "plt.ylabel('lambda*TV(x,G) + 1/2*|x - y|^2')\n",
    "plt.title('The Objective as a function of Time for the SBM')\n",
    "legend = plt.legend(loc = 0, shadow = True, fontsize = 'x-large')\n",
    "legend.get_frame().set_facecolor('#efe2c1')\n",
    "#plt.axis([0, 75, 1000, 4500])\n",
    "plt.xscale('log')\n",
    "plt.grid()\n",
    "plt.savefig('Review-SBM-TV-L-log.png')\n",
    "plt.show()\n"
   ]
  },
  {
   "cell_type": "code",
   "execution_count": 77,
   "metadata": {
    "collapsed": false
   },
   "outputs": [
    {
     "data": {
      "text/plain": [
       "399"
      ]
     },
     "execution_count": 77,
     "metadata": {},
     "output_type": "execute_result"
    }
   ],
   "source": [
    "len(SnakeTV[('time',i)])"
   ]
  },
  {
   "cell_type": "markdown",
   "metadata": {},
   "source": [
    "# Laplacian risk minimization : Harmonic energy minimization"
   ]
  },
  {
   "cell_type": "code",
   "execution_count": null,
   "metadata": {
    "collapsed": false
   },
   "outputs": [],
   "source": [
    "#Data\n",
    "\n",
    "#Vector of unobserved nodes\n",
    "vec0 = snap.TIntV() \n",
    "for v in G.Nodes():\n",
    "    k = v.GetId() \n",
    "    if k < G.GetNodes()/2:\n",
    "        vec0.Add(v.GetId())\n",
    "    \n",
    "#Vector of observed nodes\n",
    "vec1 = snap.TIntV()\n",
    "for v in G.Nodes():\n",
    "    k = v.GetId() \n",
    "    if k >= G.GetNodes()/2:\n",
    "        vec1.Add(v.GetId())  \n",
    "    \n",
    "#Graph of observed nodes    \n",
    "G1 = snap.GetSubGraph(G, vec1)\n",
    "\n",
    "#Graph of unobserved nodes\n",
    "G0 = snap.GetSubGraph(G, vec0)\n",
    "\n",
    "#External degree in G0 of a node in G1\n",
    "d1_ext = np.zeros(G.GetMxNId() - G.GetNodes()/2)\n",
    "for v in G1.Nodes():\n",
    "    k = v.GetId()\n",
    "    v0 = G.GetNI(k)\n",
    "    d1_ext[k - G.GetNodes()/2] = (v0.GetDeg() - v.GetDeg())\n",
    "\n",
    "#External degree in G1 of a node in G0\n",
    "d0_ext = np.zeros(G.GetNodes()/2)\n",
    "for v in G0.Nodes():\n",
    "    k = v.GetId()\n",
    "    v1 = G.GetNI(k)\n",
    "    d0_ext[k] = v1.GetDeg() - v.GetDeg()\n",
    "    \n",
    "print G0.GetMxNId(), G1.GetMxNId()"
   ]
  },
  {
   "cell_type": "code",
   "execution_count": null,
   "metadata": {
    "collapsed": true
   },
   "outputs": [],
   "source": [
    "#Functions one need to apply the conjugate gradient algorithm \n",
    "\n",
    "#Computes the Laplacian value at x over G\n",
    "def L(x,G):\n",
    "    y = np.zeros(G.GetMxNId()+1)\n",
    "    for v in G.Nodes():\n",
    "        i = v.GetId()\n",
    "        y[i] = v.GetDeg()*x[i] - sum([x[v.GetNbrNId(k)] for k in range(v.GetDeg())])\n",
    "    return y\n",
    "\n",
    "#Corresponds to the matrix D_G - A_G0 \n",
    "def Mat(x,G0,G):\n",
    "    y = np.zeros(G.GetNodes()/2)\n",
    "    for v0 in G0.Nodes():\n",
    "        i = v0.GetId()\n",
    "        v = G.GetNI(i)\n",
    "        y[i] = v.GetDeg()*x[i] - sum([x[v0.GetNbrNId(k)] for k in range(v0.GetDeg())]) \n",
    "    return y\n",
    "\n",
    "#This vector will be useful in the sequel\n",
    "Y = np.zeros(G.GetNodes()/2)\n",
    "for v0 in G0.Nodes():\n",
    "    i = v0.GetId()\n",
    "    v = G.GetNI(i)\n",
    "    Y[i] = sum([y[v.GetNbrNId(k)] for k in range(v.GetDeg()) if v.GetNbrNId(k) >= G.GetNodes()/2])\n"
   ]
  },
  {
   "cell_type": "code",
   "execution_count": null,
   "metadata": {
    "collapsed": false
   },
   "outputs": [],
   "source": [
    "#Parameter\n",
    "\n",
    "#We will run the algorithms during sec seconds\n",
    "#sec = 4000 #for the Orkut graph\n",
    "sec = 1.0 #for the Facebook graph\n",
    "\n",
    "#x_test = np.asarray([np.mean(x1)]*len(x0))"
   ]
  },
  {
   "cell_type": "code",
   "execution_count": null,
   "metadata": {
    "collapsed": false
   },
   "outputs": [],
   "source": [
    "#Snake for the Laplacian regularized risk minimization\n",
    "R = 'Laplace'\n",
    "\n",
    "#The dictionnary SnakeLaplace will contain the necessary material for the simulation visualization\n",
    "SnakeLaplace = {}\n",
    "\n",
    "#The step size is taken to be cte/sqrt(n) over the Orkut graph\n",
    "#aj = 0.5\n",
    "#cte = coeff/(aj*float(G.GetEdges()))\n",
    "#n = 1\n",
    "#gamma_n = cte /np.sqrt(float(n))\n",
    "\n",
    "#The step size is taken to be cte/n over the Facebook graph\n",
    "aj = 1.0\n",
    "cte = coeff/(aj*float(G.GetEdges()))\n",
    "n = 1\n",
    "gamma_n = cte /float(n)\n",
    "\n",
    "\n",
    "#lgr = L in the paper\n",
    "lgr = G.GetNodes()/10 #one can take lgr = 100 if one wants smaller iterations\n",
    "l = lgr\n",
    "\n",
    "#lgr = G.GetNodes()/50 over the Orkut graph\n",
    "\n",
    "#The gradient of the data fitting term in x0 is 2 * (x0*d0_ext - Y)\n",
    "\n",
    "#The first iterate of the algorithm (vector x over G0) is chosen to be 0, \n",
    "#The vector of observed nodes is chosen to coincide with y on observed nodes\n",
    "x0 = np.zeros(G.GetNodes()/2)\n",
    "x1 = y[G.GetNodes()/2:G.GetMxNId()]\n",
    "\n",
    "\n",
    "\n",
    "#The corresponding harmonic energy is zero_harmonic_energy\n",
    "zero_harmonic_energy = Laplace(np.asarray(list(x0)+list(x1)),G)\n",
    "\n",
    "#One can check that the harmonic energy of a vector x over G can be expressed \n",
    "#via its restriction x0 to G0 by the expression \n",
    "#zero_harmonic energy - 2*np.inner(x0,Y) + np.inner(x0,Mat(x0,G0,G))\n",
    "\n",
    "\n",
    "\n",
    "#SnakeLaplace[('harmonic_energy',lgr)] contains the values of the harmonic energy \n",
    "#on the iterates of the algorithm. The first value is\n",
    "SnakeLaplace[('harmonic_energy',lgr)] = [zero_harmonic_energy]\n",
    "\n",
    "#SnakeLaplace[('time',lgr)] chronometers the running of the algorithm\n",
    "SnakeLaplace[('time',lgr)] = [0]\n",
    "\n",
    "\n",
    "#Initializing the random walk\n",
    "e = Rnd_Edge(G0)\n",
    "\n",
    "print SnakeLaplace[('time',lgr)][-1]\n",
    "\n",
    "temps = time.time()\n",
    "while SnakeLaplace[('time',lgr)][-1] < sec: \n",
    "    \n",
    "    C, e = Simple_Path(e, l, G0)  \n",
    "    x0 = x0 - gamma_n * (len(C) - 1) * 2 * (x0*d0_ext - Y)\n",
    "    x0 = Prox_1D(x0, C, G0.GetEdges() * gamma_n, R)\n",
    "    l = l - (len(C) - 1)\n",
    "    \n",
    "    \n",
    "    if l == 0:\n",
    "        l = lgr\n",
    "        n += 1\n",
    "        gamma_n = cte /np.sqrt(float(n))\n",
    "        e = Rnd_Edge(G0)\n",
    "        \n",
    "        temps = time.time() - temps\n",
    "        SnakeLaplace[('time',lgr)] += [SnakeLaplace[('time',lgr)][-1] + temps]\n",
    "        print SnakeLaplace[('time',lgr)][-1]\n",
    "        \n",
    "        SnakeLaplace[('harmonic_energy',lgr)] += [zero_harmonic_energy + np.inner(x0,Mat(x0,G0,G) - 2*Y)]\n",
    "        print SnakeLaplace[('harmonic_energy',lgr)][-1]\n",
    "        \n",
    "        temps = time.time()"
   ]
  },
  {
   "cell_type": "code",
   "execution_count": null,
   "metadata": {
    "collapsed": false
   },
   "outputs": [],
   "source": [
    "#Conjugate gradient for the Laplacian regularized risk minimization\n",
    "\n",
    "#The dictionnary CG will contain the necessary material for the simulation visualization\n",
    "CG = {}\n",
    "\n",
    "\n",
    "#Our problem boils down to solving the linear system associated with the matrix Mat(.,G0,G) and the vector Y\n",
    "\n",
    "#The first iterate of the algorithm (vector x over G0) is chosen to be 0, \n",
    "#The vector of observed nodes is chosen to coincide with y on observed nodes\n",
    "x0 = np.zeros(G.GetNodes()/2)\n",
    "x1 = y[G.GetNodes()/2:G.GetMxNId()]\n",
    "\n",
    "#The corresponding harmonic energy is zero_harmonic_energy\n",
    "zero_harmonic_energy = Laplace(np.asarray(list(x0)+list(x1)),G)\n",
    "\n",
    "#One can check that the harmonic energy of a vector x over G can be expressed \n",
    "#via its restriction x0 to G0 by the expression \n",
    "#zero_harmonic energy - 2*np.inner(x0,Y) + np.inner(x0,Mat(x0,G0,G))\n",
    "\n",
    "\n",
    "#CG['harmonic_energy'] contains the values of the harmonic energy \n",
    "#on the iterates of the algorithm. The first value is\n",
    "CG['harmonic_energy'] = [zero_harmonic_energy]\n",
    "\n",
    "#CG['time'] chronometers the running of the algorithm\n",
    "CG['time'] = [0]\n",
    "\n",
    "\n",
    "print CG['time'][-1]\n",
    "\n",
    "#Initializing the conjugate gradient algorithm\n",
    "tip = time.time()\n",
    "Mx = np.zeros(G.GetNodes()/2) # = CG(x0,G0,G)\n",
    "r = Y #- Lx\n",
    "p = np.copy(r)\n",
    "top = time.time()\n",
    "\n",
    "print top - tip\n",
    "\n",
    "while CG['time'][-1] < sec:\n",
    "    \n",
    "    temps = time.time()\n",
    "    \n",
    "    Mp = Mat(p,G0,G)\n",
    "    \n",
    "    print time.time() - temps\n",
    "    \n",
    "    alpha = (np.linalg.norm(r)**2) /(np.inner(p,Mp))\n",
    "    x0 = x0 + alpha*p\n",
    "    r1 = np.copy(r)\n",
    "    r = r - alpha*Mp\n",
    "    beta = (np.linalg.norm(r)**2)/(np.linalg.norm(r1)**2)\n",
    "    p = r + beta*p\n",
    "    Mx = Mx + alpha*Mp\n",
    "    \n",
    "    temps = time.time()-temps\n",
    "    \n",
    "    \n",
    "    CG['time'] += [CG['time'][-1] + temps]\n",
    "    print CG['time'][-1]\n",
    "    \n",
    "    CG['harmonic_energy'] += [zero_harmonic_energy + np.inner(x0,Mat(x0,G0,G) - 2*Y)]\n",
    "    print CG['harmonic_energy'][-1]\n",
    "    "
   ]
  },
  {
   "cell_type": "code",
   "execution_count": null,
   "metadata": {
    "collapsed": false
   },
   "outputs": [],
   "source": [
    "%matplotlib inline\n",
    "snakeL = plt.plot(SnakeLaplace[('time',lgr)],SnakeLaplace[('harmonic_energy',lgr)],drawstyle='steps-post',marker = 'o',label = 'Snake')\n",
    "cg = plt.plot(CG['time'],CG['harmonic_energy'],drawstyle='steps-post',marker = 's',label='Conjugate Gradient')\n",
    " \n",
    "\n",
    "plt.xlabel('time (s)')\n",
    "plt.ylabel('x*Lx')\n",
    "plt.title('The Objective as a function of Time for the Facebook Graph') #Or Orkut Graph\n",
    "legend = plt.legend(loc = 0, shadow = True, fontsize = 'x-large')\n",
    "legend.get_frame().set_facecolor('#efe2c1')\n",
    "#plt.axis([0, 75, 1000, 4500])\n",
    "#plt.xscale('log')\n",
    "plt.grid()\n",
    "#plt.savefig('harmonic-FB.png')\n",
    "plt.show()\n"
   ]
  },
  {
   "cell_type": "markdown",
   "metadata": {},
   "source": [
    "# Laplacian risk minimization : Solving Lx = b"
   ]
  },
  {
   "cell_type": "code",
   "execution_count": null,
   "metadata": {
    "collapsed": true
   },
   "outputs": [],
   "source": [
    "#Functions one need to apply the conjugate gradient algorithm \n",
    "\n",
    "#Computes the Laplacian value at x over G\n",
    "def L(x,G):\n",
    "    y = np.zeros(G.GetMxNId())\n",
    "    for v in G.Nodes():\n",
    "        i = v.GetId()\n",
    "        y[i] = v.GetDeg()*x[i] - sum([x[v.GetNbrNId(k)] for k in range(v.GetDeg())])\n",
    "    return y\n",
    "\n",
    "b = np.copy(y)"
   ]
  },
  {
   "cell_type": "code",
   "execution_count": null,
   "metadata": {
    "collapsed": true
   },
   "outputs": [],
   "source": [
    "#Parameter\n",
    "\n",
    "#We will run the algorithms during sec seconds\n",
    "sec = 36000 #for the Orkut graph\n",
    "#sec = ??? #for the Facebook graph\n",
    "sec = 1"
   ]
  },
  {
   "cell_type": "code",
   "execution_count": null,
   "metadata": {
    "collapsed": false
   },
   "outputs": [],
   "source": [
    "#Snake for solving Lx = b\n",
    "R = 'Laplace'\n",
    "\n",
    "#The dictionnary SnakeLxb will contain the necessary material for the simulation visualization\n",
    "SnakeLxb = {}\n",
    "\n",
    "\n",
    "#The step size is taken to be cte/n over the Orkut graph\n",
    "aj = 4.0\n",
    "cte = coeff/(aj*float(G.GetEdges()))\n",
    "n = 1\n",
    "gamma_n = cte / float(n)\n",
    "\n",
    "\n",
    "#lgr = L in the paper\n",
    "lgr = G.GetNodes()\n",
    "l = lgr\n",
    "\n",
    "#The first iterate of the algorithm is chosen to be 0 or b\n",
    "x = np.zeros(N)\n",
    "#x = np.copy(b)\n",
    "Lx = L(x,G)\n",
    "\n",
    "\n",
    "#SnakeLxb[('distance',lgr)] contains the values of the distance |Lx - b| at the iterate x of the algorithm \n",
    "SnakeLxb[('distance',lgr)] = [np.linalg.norm(Lx - b)]\n",
    "\n",
    "#SnakeLxb[('time',lgr)] chronometers the running of the algorithm\n",
    "SnakeLxb[('time',lgr)] = [0]\n",
    "\n",
    "\n",
    "\n",
    "#Initializing the random walk\n",
    "e = Rnd_Edge(G0)\n",
    "\n",
    "print SnakeLxb[('time',lgr)][-1]\n",
    "\n",
    "temps = time.time()\n",
    "while SnakeLxb[('time',lgr)][-1] < sec: \n",
    "    \n",
    "    C, e = Simple_Path(e, l, G)  \n",
    "    x = x + gamma_n * (len(C) - 1) * b\n",
    "    x = Prox_1D(x, C, G.GetEdges() * gamma_n, R)\n",
    "    l = l - (len(C) - 1)\n",
    "    \n",
    "    if l == 0:\n",
    "        l = lgr\n",
    "        n += 1\n",
    "        gamma_n = cte /(float(n))\n",
    "        e = Rnd_Edge(G)\n",
    "        \n",
    "        temps = time.time() - temps\n",
    "        SnakeLxb[('time',lgr)] += [SnakeLxb[('time',lgr)][-1] + temps]\n",
    "        print SnakeLxb[('time',lgr)][-1]\n",
    "        \n",
    "        SnakeLxb[('distance',lgr)] += [np.linalg.norm(L(x,G)-b)]\n",
    "        print SnakeLxb[('distance',lgr)][-1]\n",
    "        \n",
    "        temps = time.time()"
   ]
  },
  {
   "cell_type": "code",
   "execution_count": null,
   "metadata": {
    "collapsed": false
   },
   "outputs": [],
   "source": [
    "#Conjugate gradient for the resolution of Lx = b\n",
    "\n",
    "#The dictionnary Lxb will contain the necessary material for the simulation visualization\n",
    "Lxb = {}\n",
    "\n",
    "#We want to solve the linear system associated with the matrix L(.,G) and the vector b\n",
    "\n",
    "#The first iterate of the algorithm is chosen to be 0 or b\n",
    "x = np.zeros(N)\n",
    "#x = np.copy(b)\n",
    "Lx = L(x,G)\n",
    "\n",
    "\n",
    "#Lxb['distance'] contains the values of the distance |Lx - b| at the iterate x of the algorithm \n",
    "Lxb['distance'] = [np.linalg.norm(Lx - b)]\n",
    "\n",
    "#Lxb['time'] chronometers the running of the algorithm\n",
    "Lxb['time'] = [0]\n",
    "\n",
    "\n",
    "print Lxb['time'][-1]\n",
    "\n",
    "#Initializing the conjugate gradient algorithm\n",
    "tip = time.time()\n",
    "r = b - Lx\n",
    "p = np.copy(r)\n",
    "top = time.time()\n",
    "\n",
    "print top - tip\n",
    "\n",
    "\n",
    "while Lxb['time'][-1] < sec:\n",
    "    \n",
    "    temps = time.time()\n",
    "    \n",
    "    Lp = L(p,G)\n",
    "    \n",
    "    print time.time() - temps\n",
    "    \n",
    "    alpha = (np.linalg.norm(r)**2) /(np.inner(p,Lp))\n",
    "    x = x + alpha*p\n",
    "    r1 = np.copy(r)\n",
    "    r = r - alpha*Lp\n",
    "    beta = (np.linalg.norm(r)**2)/(np.linalg.norm(r1)**2)\n",
    "    p = r + beta*p\n",
    "    Lx = Lx + alpha*Lp\n",
    "    \n",
    "    temps = time.time()-temps\n",
    "    \n",
    "    \n",
    "    Lxb['time'] += [Lxb['time'][-1] + temps]\n",
    "    print Lxb['time'][-1]\n",
    "    \n",
    "    Lxb['distance'] += [np.linalg.norm(Lx - b)]\n",
    "    print Lxb['distance'][-1]\n",
    "    "
   ]
  },
  {
   "cell_type": "code",
   "execution_count": null,
   "metadata": {
    "collapsed": false
   },
   "outputs": [],
   "source": [
    "print len(Lxb['distance']),len(Lxb['time']),len(SnakeLxb[('distance',lgr)]),len(SnakeLxb[('time',lgr)])\n"
   ]
  },
  {
   "cell_type": "code",
   "execution_count": null,
   "metadata": {
    "collapsed": false
   },
   "outputs": [],
   "source": [
    "%matplotlib inline\n",
    "snakeLxb = plt.plot(SnakeLxb[('time',lgr)],SnakeLxb[('distance',lgr)],drawstyle='steps-post',marker = 'o',label = 'Snake')\n",
    "cglxb = plt.plot(Lxb['time'],Lxb['distance'],drawstyle='steps-post',marker = 's',label='Conjugate Gradient')\n",
    " \n",
    "\n",
    "plt.xlabel('time (s)')\n",
    "plt.ylabel('|Lx - b|')\n",
    "plt.title('The Objective as a function of Time for the Orkut Graph')\n",
    "legend = plt.legend(loc = 0, shadow = True, fontsize = 'x-large')\n",
    "legend.get_frame().set_facecolor('#efe2c1')\n",
    "#plt.axis([0, 75, 1000, 4500])\n",
    "#plt.xscale('log')\n",
    "plt.grid()\n",
    "#plt.savefig('Lxb-Orkut.png')\n",
    "plt.show()\n"
   ]
  }
 ],
 "metadata": {
  "anaconda-cloud": {},
  "kernelspec": {
   "display_name": "Python [conda root]",
   "language": "python",
   "name": "conda-root-py"
  },
  "language_info": {
   "codemirror_mode": {
    "name": "ipython",
    "version": 2
   },
   "file_extension": ".py",
   "mimetype": "text/x-python",
   "name": "python",
   "nbconvert_exporter": "python",
   "pygments_lexer": "ipython2",
   "version": "2.7.12"
  }
 },
 "nbformat": 4,
 "nbformat_minor": 1
}
